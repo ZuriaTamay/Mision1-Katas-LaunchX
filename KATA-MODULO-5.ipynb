{
 "cells": [
  {
   "cell_type": "markdown",
   "metadata": {},
   "source": [
    "## Ejercicio1 - Utilizar operadores aritméticos"
   ]
  },
  {
   "cell_type": "code",
   "execution_count": 8,
   "metadata": {},
   "outputs": [
    {
     "name": "stdout",
     "output_type": "stream",
     "text": [
      "628949330 km\n",
      "390577534 m\n"
     ]
    }
   ],
   "source": [
    "# Crear variables para almacenar las dos distancias\n",
    "# ¡Asegúrate de quitar las comas!\n",
    "tierra = 149597870\n",
    "jupiter =778547200\n",
    "\n",
    "# Calcular la distancia entre planetas\n",
    "\n",
    "distancia = tierra -jupiter \n",
    "millas = distancia * 0.621\n",
    "print(abs(distancia),'km')\n",
    "print(abs(round(millas)), 'm')"
   ]
  },
  {
   "cell_type": "markdown",
   "metadata": {},
   "source": [
    "## Ejercicio 2: convierte cadenas en números y usa valores absolutos"
   ]
  },
  {
   "cell_type": "code",
   "execution_count": 2,
   "metadata": {},
   "outputs": [
    {
     "name": "stdout",
     "output_type": "stream",
     "text": [
      "50300000 km\n",
      "31236300.0 m\n"
     ]
    }
   ],
   "source": [
    "# Almacenar las entradas del usuario\n",
    "#Pista: variable = input(\"¿Cuál es tu nombre?\")\n",
    "planet1 = input('¿cual es la distancia del primer planeta')\n",
    "planet2 = input('Cual es la distancia del segundo planeta')\n",
    "\n",
    "# Convierte las cadenas de ambos planetas a números enteros\n",
    "planet1 = int(planet1)\n",
    "planet2 = int(planet2)\n",
    "\n",
    "# Realizar el cálculo y determinar el valor absoluto\n",
    "calculo = planet1 - planet2\n",
    "# Convertir de KM a Millas\n",
    "milla = calculo * 0.621\n",
    "\n",
    "print(abs(calculo),'km')\n",
    "print(abs(milla),'m')\n",
    "\n"
   ]
  }
 ],
 "metadata": {
  "interpreter": {
   "hash": "871bb642bf66b42940731e266d6882f39baaf0a5d1b79e702d418d1c6fed3fbb"
  },
  "kernelspec": {
   "display_name": "Python 3.10.2 64-bit",
   "language": "python",
   "name": "python3"
  },
  "language_info": {
   "codemirror_mode": {
    "name": "ipython",
    "version": 3
   },
   "file_extension": ".py",
   "mimetype": "text/x-python",
   "name": "python",
   "nbconvert_exporter": "python",
   "pygments_lexer": "ipython3",
   "version": "3.10.2"
  },
  "orig_nbformat": 4
 },
 "nbformat": 4,
 "nbformat_minor": 2
}
