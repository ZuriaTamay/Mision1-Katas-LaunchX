{
 "cells": [
  {
   "cell_type": "markdown",
   "metadata": {},
   "source": [
    "## Ejercicio1: Crear y usar listas de Python"
   ]
  },
  {
   "cell_type": "code",
   "execution_count": 3,
   "metadata": {},
   "outputs": [
    {
     "name": "stdout",
     "output_type": "stream",
     "text": [
      "Existen 8 en el sistema solar\n",
      "Pluto es el ultimo planeta del sistema solar\n"
     ]
    }
   ],
   "source": [
    "# Creamos la lista planets y la mostramos\n",
    "planets = ['Mercury', 'Venus', 'Earth', 'Mars', 'Jupiter', 'Saturn', 'Uranus', 'Neptune']\n",
    "print('Existen',len(planets),'en el sistema solar')\n",
    "\n",
    "# Agregamos a plutón y mostramos el último elemento\n",
    "planets.append('Pluto')\n",
    "print(planets[-1],'es el ultimo planeta del sistema solar')"
   ]
  },
  {
   "cell_type": "markdown",
   "metadata": {},
   "source": [
    "## Ejercicio 2: Trabajando con datos de una lista"
   ]
  },
  {
   "cell_type": "code",
   "execution_count": 5,
   "metadata": {},
   "outputs": [
    {
     "name": "stdout",
     "output_type": "stream",
     "text": [
      "Los planetas mas ceranos que Jupiter al sol son los siguientes ['Mercury', 'Venus', 'Earth', 'Mars']\n",
      "Los planetas mas lejanos que Jupiter al sol son los siguientes ['Saturn', 'Neptune']\n"
     ]
    }
   ],
   "source": [
    "# Lista de planetas\n",
    "planets = ['Mercury', 'Venus', 'Earth', 'Mars', 'Jupiter', 'Saturn', 'Neptune']\n",
    "\n",
    "# Solicitamos el nombre de un planeta *Pista:  input()*\n",
    "solicitud = input('Introducir un nombre de una planeta colocando la inicial en mayuscula y el resto en misnuscula')\n",
    "\n",
    "# Busca el planeta en la lista\n",
    "buscar = planets.index(solicitud)\n",
    "\n",
    "# Muestra los planetas más cercanos al sol\n",
    "cercano_sol =planets[0:buscar]\n",
    "\n",
    "# Muestra los planetas más lejanos al sol\n",
    "lejano_sol =planets[buscar + 1 :]\n",
    "\n",
    "print('Los planetas mas ceranos que',solicitud,'al sol son los siguientes',cercano_sol)\n",
    "print('Los planetas mas lejanos que',solicitud,'al sol son los siguientes',lejano_sol)\n"
   ]
  }
 ],
 "metadata": {
  "interpreter": {
   "hash": "871bb642bf66b42940731e266d6882f39baaf0a5d1b79e702d418d1c6fed3fbb"
  },
  "kernelspec": {
   "display_name": "Python 3.10.2 64-bit",
   "language": "python",
   "name": "python3"
  },
  "language_info": {
   "codemirror_mode": {
    "name": "ipython",
    "version": 3
   },
   "file_extension": ".py",
   "mimetype": "text/x-python",
   "name": "python",
   "nbconvert_exporter": "python",
   "pygments_lexer": "ipython3",
   "version": "3.10.2"
  },
  "orig_nbformat": 4
 },
 "nbformat": 4,
 "nbformat_minor": 2
}
