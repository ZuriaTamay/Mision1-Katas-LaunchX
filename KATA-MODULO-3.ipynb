{
 "cells": [
  {
   "cell_type": "markdown",
   "metadata": {},
   "source": [
    "## Ejercicio - Escribir declaraciones if, else, y elif"
   ]
  },
  {
   "cell_type": "code",
   "execution_count": 4,
   "metadata": {},
   "outputs": [
    {
     "name": "stdout",
     "output_type": "stream",
     "text": [
      "Advertencia de peligro\n"
     ]
    }
   ],
   "source": [
    "velocidad_superior = 25\n",
    "asteroide_viaja = 49\n",
    "if asteroide_viaja > velocidad_superior:\n",
    "\n",
    "    print(\"Advertencia de peligro\")\n",
    "else:\n",
    " print(\" La tierra esta fuera de peligro\")"
   ]
  },
  {
   "cell_type": "code",
   "execution_count": 9,
   "metadata": {},
   "outputs": [
    {
     "name": "stdout",
     "output_type": "stream",
     "text": [
      "No hay nada que ver\n"
     ]
    }
   ],
   "source": [
    "velocidad_mayor = 20\n",
    "asteroide_velocidad = 19 \n",
    "if asteroide_velocidad > velocidad_mayor:\n",
    "    print(\"Buscar el asteriode que viene a la tierra\")\n",
    "elif asteroide_velocidad == velocidad_mayor:\n",
    "    print(\"Fuera de peligro\")\n",
    "else:\n",
    "    print(\"No hay nada que ver\")    "
   ]
  },
  {
   "cell_type": "markdown",
   "metadata": {},
   "source": [
    "## Ejercicio: Uso de operadores and y or"
   ]
  },
  {
   "cell_type": "code",
   "execution_count": 20,
   "metadata": {},
   "outputs": [
    {
     "name": "stdout",
     "output_type": "stream",
     "text": [
      "Programa de asterioides\n",
      "fuera de peligro\n"
     ]
    }
   ],
   "source": [
    "\n",
    "print(\"Programa de asterioides\")\n",
    "velocidad = input(\"Introduzca su la velocidad \")\n",
    "tamaño = input(\"Introduzca el tamaño\")\n",
    "if int(tamaño) > 25 and int(velocidad) > 25:\n",
    "    print(\"causara mucho daño\") \n",
    "elif int(velocidad) >= 20:\n",
    "    print(\"Producira un rayo de luz\") \n",
    "else :\n",
    "    print(\"fuera de peligro\")\n",
    "\n"
   ]
  }
 ],
 "metadata": {
  "interpreter": {
   "hash": "871bb642bf66b42940731e266d6882f39baaf0a5d1b79e702d418d1c6fed3fbb"
  },
  "kernelspec": {
   "display_name": "Python 3.10.2 64-bit",
   "language": "python",
   "name": "python3"
  },
  "language_info": {
   "codemirror_mode": {
    "name": "ipython",
    "version": 3
   },
   "file_extension": ".py",
   "mimetype": "text/x-python",
   "name": "python",
   "nbconvert_exporter": "python",
   "pygments_lexer": "ipython3",
   "version": "3.10.2"
  },
  "orig_nbformat": 4
 },
 "nbformat": 4,
 "nbformat_minor": 2
}
