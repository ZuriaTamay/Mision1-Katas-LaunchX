{
 "cells": [
  {
   "cell_type": "markdown",
   "metadata": {},
   "source": [
    "## Ejercicio 1: Trabajar con argumentos en funciones"
   ]
  },
  {
   "cell_type": "code",
   "execution_count": 60,
   "metadata": {},
   "outputs": [],
   "source": [
    "# Función para leer 3 tanques de combustible y muestre el promedio\n",
    "def reporte(tanque1, tanque2, tanque3): \n",
    "        promedio = (tanque1 + tanque2 + tanque3)/3\n",
    "\n",
    "        print(f\"\"\"\"\n",
    "        Informe de la lectura de conbustible\n",
    "        {'_'*43}\n",
    "        Tanque uno tiene : {tanque1} conbustible\n",
    "        Tanque dos tiene : {tanque2} conbustible\n",
    "        Tanque tres tiene : {tanque3} conbustible\n",
    "        El promedio es de: {promedio }  \"\"\")\n",
    "\n",
    "        "
   ]
  },
  {
   "cell_type": "code",
   "execution_count": 61,
   "metadata": {},
   "outputs": [
    {
     "name": "stdout",
     "output_type": "stream",
     "text": [
      "\"\n",
      "        Informe de la lectura de conbustible\n",
      "        ___________________________________________\n",
      "        Tanque uno tiene : 10 conbustible\n",
      "        Tanque dos tiene : 20 conbustible\n",
      "        Tanque tres tiene : 30 conbustible\n",
      "        El promedio es de: 20.0  \n"
     ]
    }
   ],
   "source": [
    "# Llammuestraamos a la función que genera el reporte print(funcion(tanque1, tanque2, tanque3))\n",
    "reporte(10,20,30)"
   ]
  },
  {
   "cell_type": "code",
   "execution_count": 57,
   "metadata": {},
   "outputs": [
    {
     "name": "stdout",
     "output_type": "stream",
     "text": [
      "50.333333333333336\n"
     ]
    }
   ],
   "source": [
    "# Función promedio\n",
    "def calculo(*arg):\n",
    "   return sum(arg)/ len(arg)\n",
    "    \n",
    "print(calculo(30, 40, 81))\n"
   ]
  },
  {
   "cell_type": "code",
   "execution_count": 58,
   "metadata": {},
   "outputs": [
    {
     "name": "stdout",
     "output_type": "stream",
     "text": [
      "\"\n",
      "        Informe de la lectura de conbustible\n",
      "        ___________________________________________\n",
      "        Tanque uno tiene : 30 conbustible\n",
      "        Tanque dos tiene : 40 conbustible\n",
      "        Tanque tres tiene : 60 conbustible\n",
      "        El promedio es de: 43.333333333333336  \n"
     ]
    }
   ],
   "source": [
    "# Actualiza la función\n",
    "def reporte(tanque1, tanque2, tanque3):\n",
    "    return f\"\"\"\"\n",
    "        Informe de la lectura de conbustible\n",
    "        {'_'*43}\n",
    "        Tanque uno tiene : {tanque1} conbustible\n",
    "        Tanque dos tiene : {tanque2} conbustible\n",
    "        Tanque tres tiene : {tanque3} conbustible\n",
    "        El promedio es de: {total_promedio(tanque1, tanque2, tanque3)}  \"\"\"\n",
    "\n",
    "print(reporte(30, 40, 60))        \n",
    "    \n"
   ]
  },
  {
   "cell_type": "markdown",
   "metadata": {},
   "source": [
    "## Ejercicio 2: Trabajo con argumentos de palabra clave"
   ]
  },
  {
   "cell_type": "code",
   "execution_count": 63,
   "metadata": {},
   "outputs": [
    {
     "name": "stdout",
     "output_type": "stream",
     "text": [
      "\n",
      "    Mision a Moon\n",
      "    ___________________________________________\n",
      "    Tiempo de viaje: 88 minutes\n",
      "    Total de combustible: 1200000 conbustible\n",
      "    \n"
     ]
    }
   ],
   "source": [
    "# Función con un informe preciso de la misión. Considera hora de prelanzamiento, tiempo de vuelo, destino, tanque externo y tanque interno\n",
    "def informe(hora, tiempo_destino, nombre_destino, tanque_externo,  tanque_interno):\n",
    "    return f\"\"\"\n",
    "    Mision a {nombre_destino}\n",
    "    {'_'*43}\n",
    "    Tiempo de viaje: {hora + tiempo_destino} minutos\n",
    "    Total de combustible: {tanque_externo + tanque_interno} conbustible\n",
    "    \"\"\"\n",
    "\n",
    "print(informe(16, 72, \"Moon\", 400000, 800000))"
   ]
  },
  {
   "cell_type": "code",
   "execution_count": 69,
   "metadata": {},
   "outputs": [
    {
     "name": "stdout",
     "output_type": "stream",
     "text": [
      "\n",
      "    Mision a martes\n",
      "    _________________________________________\n",
      "    Total de tiempo de viaje: 75 minutos\n",
      "    Total de conbustible: 80000\n",
      "    \n"
     ]
    }
   ],
   "source": [
    "# Escribe tu nueva función de reporte considerando lo anterior\n",
    "def nuevo_informe(destino, *minutos, **fuel_reservoirs):\n",
    "    return f\"\"\"\n",
    "    Mision a {destino}\n",
    "    {'_'*41}\n",
    "    Total de tiempo de viaje: {sum(minutos)} minutos\n",
    "    Total de conbustible: {sum(fuel_reservoirs.values())}\"\"\"\n",
    "print(nuevo_informe(\"martes\", 20,25,30, interna= 50000, externa= 30000))\n"
   ]
  },
  {
   "cell_type": "code",
   "execution_count": 76,
   "metadata": {},
   "outputs": [
    {
     "name": "stdout",
     "output_type": "stream",
     "text": [
      "\n",
      " Mision a Mercurio\n",
      "_________________________________________\n",
      "Total de tiempo de viaje: 45 minutos\n",
      "Total de conbustible: 700000interno contiene: 400000 litros restante/nexterno contiene: 300000 litros restante/n\n"
     ]
    }
   ],
   "source": [
    "# Escribe tu nueva función\n",
    "def informe3(destino, *minutos, **fuel_reservoirs):\n",
    "    reporte = f\"\"\"\n",
    " Mision a {destino}\n",
    "{'_'*41}\n",
    "Total de tiempo de viaje: {sum(minutos)} minutos\n",
    "Total de conbustible: {sum(fuel_reservoirs.values())}\"\"\"\n",
    "\n",
    "    for tanque, combustible in fuel_reservoirs.items():\n",
    "        reporte += f\"{tanque} contiene: {combustible} litros restante/n\"\n",
    "    return reporte\n",
    "print(informe3(\"Mercurio\", 10, 15, 20, interno = 400000, externo=300000))"
   ]
  }
 ],
 "metadata": {
  "interpreter": {
   "hash": "871bb642bf66b42940731e266d6882f39baaf0a5d1b79e702d418d1c6fed3fbb"
  },
  "kernelspec": {
   "display_name": "Python 3.10.2 64-bit",
   "language": "python",
   "name": "python3"
  },
  "language_info": {
   "codemirror_mode": {
    "name": "ipython",
    "version": 3
   },
   "file_extension": ".py",
   "mimetype": "text/x-python",
   "name": "python",
   "nbconvert_exporter": "python",
   "pygments_lexer": "ipython3",
   "version": "3.10.2"
  },
  "orig_nbformat": 4
 },
 "nbformat": 4,
 "nbformat_minor": 2
}
