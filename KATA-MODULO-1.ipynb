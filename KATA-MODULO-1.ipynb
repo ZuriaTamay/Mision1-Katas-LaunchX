{
 "cells": [
  {
   "cell_type": "code",
   "execution_count": 1,
   "metadata": {},
   "outputs": [
    {
     "name": "stdout",
     "output_type": "stream",
     "text": [
      "Today' s date is: 2022-02-06\n"
     ]
    }
   ],
   "source": [
    "# Primer programa (Fecha)\n",
    "from datetime import date\n",
    "print(\"Today' s date is: \" + str(date.today()))"
   ]
  },
  {
   "cell_type": "code",
   "execution_count": 7,
   "metadata": {},
   "outputs": [
    {
     "name": "stdout",
     "output_type": "stream",
     "text": [
      "11 parsec, is 35.877159999999996 lightyaers \n"
     ]
    }
   ],
   "source": [
    "# convertidor de unidades\n",
    "parsec = 11\n",
    "lightyaers = 3.26156 * parsec\n",
    "print(str(parsec) + \" parsec, is \" + str(lightyaers) + \" lightyaers \")"
   ]
  }
 ],
 "metadata": {
  "interpreter": {
   "hash": "871bb642bf66b42940731e266d6882f39baaf0a5d1b79e702d418d1c6fed3fbb"
  },
  "kernelspec": {
   "display_name": "Python 3.10.2 64-bit",
   "language": "python",
   "name": "python3"
  },
  "language_info": {
   "codemirror_mode": {
    "name": "ipython",
    "version": 3
   },
   "file_extension": ".py",
   "mimetype": "text/x-python",
   "name": "python",
   "nbconvert_exporter": "python",
   "pygments_lexer": "ipython3",
   "version": "3.10.2"
  },
  "orig_nbformat": 4
 },
 "nbformat": 4,
 "nbformat_minor": 2
}
